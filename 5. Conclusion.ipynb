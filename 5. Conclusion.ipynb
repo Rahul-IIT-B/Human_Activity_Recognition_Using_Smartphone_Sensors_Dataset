{
 "cells": [
  {
   "cell_type": "markdown",
   "metadata": {},
   "source": [
    "<h1><p style=\"color: green\">Conclusion</p></h1>\n"
   ]
  },
  {
   "cell_type": "code",
   "execution_count": 1,
   "metadata": {},
   "outputs": [],
   "source": [
    "from prettytable import PrettyTable\n"
   ]
  },
  {
   "cell_type": "code",
   "execution_count": 15,
   "metadata": {},
   "outputs": [
    {
     "name": "stdout",
     "output_type": "stream",
     "text": [
      "\n",
      "\n",
      " ********** Machine Learning Model Comparison ************\n",
      "+-------------------------------------------------------------------+\n",
      "|                         Model Comparision                         |\n",
      "+-------------------------------+------------------------+----------+\n",
      "|           Model Name          | Hyperparameter Tunning | Accuracy |\n",
      "+-------------------------------+------------------------+----------+\n",
      "| Support Vector Machine (poly) |          Done          |  96.3%   |\n",
      "|      Logistic Regression      |          Done          |  95.86%  |\n",
      "|            XGBoost            |          Done          |  95.05%  |\n",
      "|         Random Forest         |          Done          |  91.96%  |\n",
      "|      K-Nearest Neighbours     |          Done          |  90.23%  |\n",
      "|          DecisionTree         |          Done          |  86.39%  |\n",
      "+-------------------------------+------------------------+----------+\n",
      "\n",
      "\n",
      " ********** Feature Importances For Best Model  ************\n",
      "+--------------------------------------------+\n",
      "|    Permutation Importance of Features:     |\n",
      "+-------------------------------+------------+\n",
      "|            Feature            | Importance |\n",
      "+-------------------------------+------------+\n",
      "|   tBodyGyroJerk-entropy()-X   |  0.081778  |\n",
      "|     fBodyGyro-entropy()-X     |  0.051239  |\n",
      "|      fBodyAcc-entropy()-X     |  0.016966  |\n",
      "|      tGravityAcc-mean()-Y     |  0.009841  |\n",
      "| fBodyBodyAccJerkMag-entropy() |  0.009026  |\n",
      "|      tGravityAcc-min()-Y      |  0.008415  |\n",
      "|      tGravityAcc-max()-Y      |  0.007737  |\n",
      "|   tBodyGyroJerk-entropy()-Y   |  0.005904  |\n",
      "|     fBodyGyro-skewness()-X    |  0.005836  |\n",
      "+-------------------------------+------------+\n",
      "\n",
      "\n",
      "*** ML Model Comparison after Dimensionality Reduction using PCA ***\n",
      "+------------------------------------------------------------------+\n",
      "|                        Model Comparision                         |\n",
      "+------------------------------+------------------------+----------+\n",
      "|          Model Name          | Hyperparameter Tunning | Accuracy |\n",
      "+------------------------------+------------------------+----------+\n",
      "| Support Vector Machine (rbf) |          Done          |  95.76%  |\n",
      "|     Logistic Regression      |          Done          |  94.13%  |\n",
      "|           XGBoost            |          Done          |  92.57%  |\n",
      "|        Random Forest         |          Done          |  91.21%  |\n",
      "|     K-Nearest Neighbors      |          Done          |  87.89%  |\n",
      "+------------------------------+------------------------+----------+\n",
      "\n",
      "\n",
      "** ML Model Comparison after Dimensionality Reduction using KBest **\n",
      "+------------------------------------------------------------------+\n",
      "|                        Model Comparision                         |\n",
      "+------------------------------+------------------------+----------+\n",
      "|          Model Name          | Hyperparameter Tunning | Accuracy |\n",
      "+------------------------------+------------------------+----------+\n",
      "| Support Vector Machine (rbf) |          Done          |  87.00%  |\n",
      "|     Logistic Regression      |          Done          |  86.39%  |\n",
      "|        Random Forest         |          Done          |  85.14%  |\n",
      "|           XGBoost            |          Done          |  83.41%  |\n",
      "|     K-Nearest Neighbors      |          Done          |  82.25%  |\n",
      "+------------------------------+------------------------+----------+\n",
      "\n",
      "\n",
      " ********************************* Deep Learning LSTM Model Comparision ***********************************\n",
      "+----------------------------------------------------------------------------------------------------------+\n",
      "|                                            Model Comparision                                             |\n",
      "+-------------------------------------------+------------------------+--------------------------+----------+\n",
      "|                 Model Name                | Hyperparameter Tunning | categorical_crossentropy | Accuracy |\n",
      "+-------------------------------------------+------------------------+--------------------------+----------+\n",
      "|       LSTM With 1_Layer(neurons:32)       |          Done          |           0.50           |   0.90   |\n",
      "| LSTM With 2_Layer(neurons:48, neurons:32) |          Done          |           0.34           |   0.91   |\n",
      "| LSTM With 2_Layer(neurons:64, neurons:48) |          Done          |           0.32           |   0.92   |\n",
      "+-------------------------------------------+------------------------+--------------------------+----------+\n"
     ]
    }
   ],
   "source": [
    "ptable1 = PrettyTable()\n",
    "ptable1.title = \" Model Comparision \"\n",
    "ptable1.field_names = ['Model Name','Hyperparameter Tunning', 'Accuracy']\n",
    "\n",
    "print(\"\\n\\n ********** Machine Learning Model Comparison ************\")\n",
    "ptable1.add_row([\"Support Vector Machine (poly)\", \"Done\", \"96.3%\"])\n",
    "ptable1.add_row([\"Logistic Regression\", \"Done\", \"95.86%\"])\n",
    "ptable1.add_row([\"XGBoost\", \"Done\", \"95.05%\"])\n",
    "ptable1.add_row([\"Random Forest\", \"Done\", \"91.96%\"])\n",
    "ptable1.add_row([\"K-Nearest Neighbours\", \"Done\", \"90.23%\"])\n",
    "ptable1.add_row([\"DecisionTree\", \"Done\", \"86.39%\"])\n",
    "\n",
    "print(ptable1)\n",
    "\n",
    "ptable5 = PrettyTable()\n",
    "ptable5.title = \"Permutation Importance of Features:\"\n",
    "ptable5.field_names = ['Feature', 'Importance']\n",
    "print(\"\\n\\n ********** Feature Importances For Best Model  ************\")\n",
    "\n",
    "ptable5.add_row([\"tBodyGyroJerk-entropy()-X\", \"0.081778\"])\n",
    "ptable5.add_row([\"fBodyGyro-entropy()-X\", \"0.051239\"])\n",
    "ptable5.add_row([\"fBodyAcc-entropy()-X\", \"0.016966\"])\n",
    "ptable5.add_row([\"tGravityAcc-mean()-Y\", \"0.009841\"])\n",
    "ptable5.add_row([\"fBodyBodyAccJerkMag-entropy()\", \"0.009026\"])\n",
    "ptable5.add_row([\"tGravityAcc-min()-Y\", \"0.008415\"])\n",
    "ptable5.add_row([\"tGravityAcc-max()-Y\", \"0.007737\"])\n",
    "ptable5.add_row([\"tBodyGyroJerk-entropy()-Y\", \"0.005904\"])\n",
    "ptable5.add_row([\"fBodyGyro-skewness()-X\", \"0.005836\"])\n",
    "\n",
    "print(ptable5)\n",
    "\n",
    "ptable2 = PrettyTable()\n",
    "ptable2.title = \" Model Comparision \"\n",
    "ptable2.field_names = ['Model Name','Hyperparameter Tunning', 'Accuracy']\n",
    "\n",
    "print(\"\\n\\n*** ML Model Comparison after Dimensionality Reduction using PCA ***\")\n",
    "ptable2.add_row([\"Support Vector Machine (rbf)\", \"Done\", \"95.76%\"])\n",
    "ptable2.add_row([\"Logistic Regression\", \"Done\", \"94.13%\"])\n",
    "ptable2.add_row([\"XGBoost\", \"Done\", \"92.57%\"])\n",
    "ptable2.add_row([\"Random Forest\", \"Done\", \"91.21%\"])\n",
    "ptable2.add_row([\"K-Nearest Neighbors\", \"Done\", \"87.89%\"])\n",
    "\n",
    "print(ptable2)\n",
    "\n",
    "ptable3 = PrettyTable()\n",
    "ptable3.title = \" Model Comparision \"\n",
    "ptable3.field_names = ['Model Name','Hyperparameter Tunning', 'Accuracy']\n",
    "\n",
    "print(\"\\n\\n** ML Model Comparison after Dimensionality Reduction using KBest **\")\n",
    "ptable3.add_row([\"Support Vector Machine (rbf)\", \"Done\", \"87.00%\"])\n",
    "ptable3.add_row([\"Logistic Regression\", \"Done\", \"86.39%\"])\n",
    "ptable3.add_row([\"Random Forest\", \"Done\", \"85.14%\"])\n",
    "ptable3.add_row([\"XGBoost\", \"Done\", \"83.41%\"])\n",
    "ptable3.add_row([\"K-Nearest Neighbors\", \"Done\", \"82.25%\"])\n",
    "\n",
    "print(ptable3)\n",
    "\n",
    "ptable4 = PrettyTable()\n",
    "ptable4.title = \" Model Comparision \"\n",
    "ptable4.field_names = ['Model Name','Hyperparameter Tunning', 'categorical_crossentropy', 'Accuracy']\n",
    "\n",
    "print(\"\\n\\n ********************************* Deep Learning LSTM Model Comparision ***********************************\")\n",
    "ptable4.add_row([\"LSTM With 1_Layer(neurons:32)\",\"Done\",\"0.50\", \"0.90\"])\n",
    "ptable4.add_row([\"LSTM With 2_Layer(neurons:48, neurons:32)\",\"Done\",\"0.34\", \"0.91\"])\n",
    "ptable4.add_row([\"LSTM With 2_Layer(neurons:64, neurons:48)\",\"Done\",\"0.32\", \"0.92\"])\n",
    "\n",
    "print(ptable4)\n",
    "\n"
   ]
  },
  {
   "cell_type": "markdown",
   "metadata": {},
   "source": [
    "1. **_Machine Learning Model Comparision_** : We can choose **_Support Vector Machine (poly)_** or **_Logistic Regression_** or **_XGBoost_** as our best model while applying ML Classical Model. XGBoost takes significantly more time than any other model to train like more that 50 times the time taken by Logistic Regression.\n"
   ]
  },
  {
   "cell_type": "markdown",
   "metadata": {},
   "source": [
    "2. **_Dimensionality Reduction_** : If you want to reduce the dimensions of the features, Using **_PCA_** with threshold of **_0.95_** and then using **_Support Vector Machine (rbf)_** model would be best as it approximately matches the accuracy of the best model while using all the features.\n"
   ]
  },
  {
   "cell_type": "markdown",
   "metadata": {},
   "source": [
    "3. **_Deep Learning LSTM Model Comparision_** : When we talking about LSTM Model, here with LSTM we are using simple RAW data(in ML model we are using Single engineered data made by an expert), but we can see the result without any FE data, LSTM perform very-very well and got highest 92% accuracy with 2_layer LSTM with hyperparameter Tunning and also we can clearly when we are increasing LSTM layer and Hyperparameter Tunning the cross-entropy value is decreasing and Accuracy is increasing.\n"
   ]
  }
 ],
 "metadata": {
  "kernelspec": {
   "display_name": "Python 3",
   "language": "python",
   "name": "python3"
  },
  "language_info": {
   "codemirror_mode": {
    "name": "ipython",
    "version": 3
   },
   "file_extension": ".py",
   "mimetype": "text/x-python",
   "name": "python",
   "nbconvert_exporter": "python",
   "pygments_lexer": "ipython3",
   "version": "3.12.3"
  }
 },
 "nbformat": 4,
 "nbformat_minor": 2
}
